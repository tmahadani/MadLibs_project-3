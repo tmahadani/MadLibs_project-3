{
 "cells": [
  {
   "cell_type": "code",
   "execution_count": null,
   "metadata": {},
   "outputs": [],
   "source": []
  },
  {
   "cell_type": "code",
   "execution_count": 1,
   "metadata": {},
   "outputs": [
    {
     "name": "stdout",
     "output_type": "stream",
     "text": [
      "Arani went to the sea side at 10am on Sunday.\n",
      "She built a big Sand Castle. \n",
      "It had shells on the walls and flags on the top. \n",
      "Then a monkey ran into the sand castle. Arani said I'm a soldier!, be careful!.\n"
     ]
    }
   ],
   "source": [
    "\n",
    "# Kieranthakkar, Tanu, Mohamed Idris, Haley Visconti\n",
    "\n",
    "## Mad Lib Game: Mad Libs is a fun word game where you fill in the blanks of a story with random words like noun, adjective, verb etc.\n",
    "\n",
    "## Ask user for input words to fill in the blanks\n",
    "\n",
    "name = input(\"What is your name?: \")\n",
    "verb = input(\"Give me a verb: \")\n",
    "preposition1 = input(\"Give me a preposition: \")\n",
    "time = input(\"Give me a time:\")\n",
    "noun1 = input(\"Give me a noun: \")\n",
    "pronoun = input(\"Give me a pronoun: \")\n",
    "adjective = input(\"Give me a adjective: \")\n",
    "preposition2 = input(\"Give me a preposition: \")\n",
    "conjunction = input(\"Give me a conjunction: \")\n",
    "noun2 = input(\"Give me a noun: \")\n",
    "noun3 = input(\"Give me a noun: \")\n",
    "adverb = input(\"Give me a adverb: \")\n",
    "\n",
    "## Actual Story\n",
    "\n",
    "madlib = f\"{name} {verb} {preposition1} the sea side at {time} on {noun1}.\\n{pronoun} built a {adjective} Sand Castle. \\nIt had shells {preposition2} the walls {conjunction} flags on the top. \\nThen a {noun2} ran into the sand castle. {noun3} said I'm a soldier!, be {adverb}!.\"\n",
    "\n",
    "## Print the completed Mad Libs story\n",
    "\n",
    "print(madlib) "
   ]
  }
 ],
 "metadata": {
  "kernelspec": {
   "display_name": "Python 3",
   "language": "python",
   "name": "python3"
  },
  "language_info": {
   "codemirror_mode": {
    "name": "ipython",
    "version": 3
   },
   "file_extension": ".py",
   "mimetype": "text/x-python",
   "name": "python",
   "nbconvert_exporter": "python",
   "pygments_lexer": "ipython3",
   "version": "3.11.5"
  },
  "orig_nbformat": 4
 },
 "nbformat": 4,
 "nbformat_minor": 2
}
